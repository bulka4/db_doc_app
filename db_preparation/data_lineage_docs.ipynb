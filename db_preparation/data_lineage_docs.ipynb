{
 "cells": [
  {
   "cell_type": "code",
   "execution_count": 1,
   "id": "92c256c4-a4cb-4826-9e7e-f134c1e3f4cc",
   "metadata": {},
   "outputs": [],
   "source": [
    "import numpy as np\n",
    "import pandas as pd\n",
    "from tqdm import tqdm\n",
    "\n",
    "from sql_connector import *"
   ]
  },
  {
   "cell_type": "code",
   "execution_count": 2,
   "id": "cd5adef2-3c2a-4988-8841-aa42da48587f",
   "metadata": {},
   "outputs": [],
   "source": [
    "def cleanCode(code):\n",
    "    if code != None:\n",
    "        dct = {\n",
    "            ord('\\n'): ' ',\n",
    "            ord('\\t'): ' ',\n",
    "            ord('\\r'): ' ',\n",
    "            ord('['): '',\n",
    "            ord(']'): '',\n",
    "        }\n",
    "\n",
    "        code = code.lower().translate(dct)\n",
    "    \n",
    "    return code"
   ]
  },
  {
   "cell_type": "code",
   "execution_count": 3,
   "id": "95b87ae8-ec78-4c25-960e-57ad396708a7",
   "metadata": {},
   "outputs": [],
   "source": [
    "def getProcedureCode(stored_procedure_name):\n",
    "    stored_procedure_db = stored_procedure_name.split('.')[0]\n",
    "    stored_procedure_name = stored_procedure_name.split(stored_procedure_db)[1][1:]\n",
    "    \n",
    "    sql = sql_connector('DNAPROD', stored_procedure_db)\n",
    "    stored_procedure_code = sql.read_query(f\"SELECT OBJECT_DEFINITION (OBJECT_ID(N'{stored_procedure_name}'))\").values.flatten()[0]\n",
    "    stored_procedure_code = cleanCode(stored_procedure_code)\n",
    "    \n",
    "    return stored_procedure_code"
   ]
  },
  {
   "cell_type": "markdown",
   "id": "65c9cde2-5ddf-45c8-a8e1-b9dbe947306c",
   "metadata": {},
   "source": [
    "# preparing table for data lineage documentation"
   ]
  },
  {
   "cell_type": "code",
   "execution_count": 73,
   "id": "d2cfdf1e-b7af-44cf-bb1a-6e7a82530f8d",
   "metadata": {},
   "outputs": [
    {
     "name": "stderr",
     "output_type": "stream",
     "text": [
      "100%|███████████████████████████████████████████████████████████████████████████████████████████████████████████████████████████████████████| 25/25 [00:31<00:00,  1.26s/it]\n"
     ]
    }
   ],
   "source": [
    "# get list of all tables and views from all databases\n",
    "\n",
    "databases = sql.read_query('SELECT name FROM sys.databases').values.flatten()\n",
    "all_server_tables = pd.DataFrame()\n",
    "all_server_views = pd.DataFrame()\n",
    "for db in tqdm(databases):\n",
    "    sql = sql_connector('DNAPROD', db)\n",
    "    \n",
    "    # get list of tables\n",
    "    query = \"SELECT (SCHEMA_NAME(schema_id) + '.' + name) as TableName FROM sys.tables\"\n",
    "    tables_new = sql.read_query(query)\n",
    "    all_server_tables = pd.concat((all_server_tables, tables_new))\n",
    "    \n",
    "    # get list of views\n",
    "    query = \"SELECT (schema_name(schema_id) + '.' + name) as ViewName FROM sys.views\"\n",
    "    views_new = sql.read_query(query)\n",
    "    all_server_views = pd.concat((all_server_views, views_new))\n",
    "    \n",
    "all_server_views['ViewName'] = all_server_views.ViewName.apply(lambda x: x.lower()) \n",
    "all_server_tables['TableName'] = all_server_tables.TableName.apply(lambda x: x.lower()) \n",
    "\n",
    "all_server_tables = all_server_tables.reset_index(drop = True)\n",
    "all_server_views = all_server_views.reset_index(drop = True)"
   ]
  },
  {
   "cell_type": "code",
   "execution_count": 97,
   "id": "c9f45827-fe83-4f8e-8f71-d223a3009893",
   "metadata": {},
   "outputs": [
    {
     "name": "stderr",
     "output_type": "stream",
     "text": [
      "100%|███████████████████████████████████████████████████████████████████████████████████████████████████████████████████████████████████████| 25/25 [00:10<00:00,  2.29it/s]\n"
     ]
    }
   ],
   "source": [
    "# get list of all stored procedures\n",
    "\n",
    "sql = sql_connector('DNAPROD', 'Stage')\n",
    "stored_procedures = pd.DataFrame()\n",
    "for db in tqdm(databases):\n",
    "    query = f\"\"\"\n",
    "    SELECT \n",
    "        (specific_catalog + '.' + specific_schema + '.' + specific_name) as 'procedureName'\n",
    "    FROM \n",
    "        {db}.INFORMATION_SCHEMA.ROUTINES\n",
    "    WHERE \n",
    "        ROUTINE_TYPE = 'PROCEDURE'\n",
    "    \"\"\"\n",
    "\n",
    "    df = sql.read_query(query)\n",
    "    stored_procedures = pd.concat((stored_procedures, df))\n",
    "    \n",
    "stored_procedures['procedureName'] = stored_procedures.procedureName.apply(lambda x: x.lower())\n",
    "stored_procedures['code'] = stored_procedures.procedureName.apply(lambda x: getProcedureCode(x))\n",
    "stored_procedures = stored_procedures.reset_index(drop = True)\n",
    "stored_procedures.to_json('stored_procedures.json')"
   ]
  },
  {
   "cell_type": "code",
   "execution_count": 135,
   "id": "ee8181e3-1187-49d3-9f9e-9d2f8fcad11b",
   "metadata": {},
   "outputs": [
    {
     "data": {
      "text/html": [
       "<div>\n",
       "<style scoped>\n",
       "    .dataframe tbody tr th:only-of-type {\n",
       "        vertical-align: middle;\n",
       "    }\n",
       "\n",
       "    .dataframe tbody tr th {\n",
       "        vertical-align: top;\n",
       "    }\n",
       "\n",
       "    .dataframe thead th {\n",
       "        text-align: right;\n",
       "    }\n",
       "</style>\n",
       "<table border=\"1\" class=\"dataframe\">\n",
       "  <thead>\n",
       "    <tr style=\"text-align: right;\">\n",
       "      <th></th>\n",
       "      <th>procedureName</th>\n",
       "      <th>code</th>\n",
       "    </tr>\n",
       "  </thead>\n",
       "  <tbody>\n",
       "    <tr>\n",
       "      <th>0</th>\n",
       "      <td>master.dbo.sp_allnightlog</td>\n",
       "      <td>create procedure dbo.sp_allnightlog       ...</td>\n",
       "    </tr>\n",
       "    <tr>\n",
       "      <th>1</th>\n",
       "      <td>master.dbo.sp_allnightlog_setup</td>\n",
       "      <td>create procedure dbo.sp_allnightlog_setup ...</td>\n",
       "    </tr>\n",
       "    <tr>\n",
       "      <th>2</th>\n",
       "      <td>master.dbo.sp_blitz</td>\n",
       "      <td>create procedure dbo.sp_blitz      @help tin...</td>\n",
       "    </tr>\n",
       "    <tr>\n",
       "      <th>3</th>\n",
       "      <td>master.dbo.sp_blitzanalysis</td>\n",
       "      <td>create procedure dbo.sp_blitzanalysis (  @he...</td>\n",
       "    </tr>\n",
       "    <tr>\n",
       "      <th>4</th>\n",
       "      <td>master.dbo.sp_blitzbackups</td>\n",
       "      <td>create procedure dbo.sp_blitzbackups      @hel...</td>\n",
       "    </tr>\n",
       "    <tr>\n",
       "      <th>...</th>\n",
       "      <td>...</td>\n",
       "      <td>...</td>\n",
       "    </tr>\n",
       "    <tr>\n",
       "      <th>889</th>\n",
       "      <td>hrg.employee.simplelist</td>\n",
       "      <td>create procedure employee.simplelist  as    se...</td>\n",
       "    </tr>\n",
       "    <tr>\n",
       "      <th>890</th>\n",
       "      <td>hrg.employee.mediumlist</td>\n",
       "      <td>create procedure employee.mediumlist  as    ...</td>\n",
       "    </tr>\n",
       "    <tr>\n",
       "      <th>891</th>\n",
       "      <td>hrg.employee.leaders</td>\n",
       "      <td>--get list of all employees    create proc...</td>\n",
       "    </tr>\n",
       "    <tr>\n",
       "      <th>892</th>\n",
       "      <td>hrg.employee.icims</td>\n",
       "      <td>--get data from unified table    create proc...</td>\n",
       "    </tr>\n",
       "    <tr>\n",
       "      <th>893</th>\n",
       "      <td>reference.dbo.sp_xrefgrouping</td>\n",
       "      <td>create procedure dbo.sp_xrefgrou...</td>\n",
       "    </tr>\n",
       "  </tbody>\n",
       "</table>\n",
       "<p>894 rows × 2 columns</p>\n",
       "</div>"
      ],
      "text/plain": [
       "                       procedureName   \n",
       "0          master.dbo.sp_allnightlog  \\\n",
       "1    master.dbo.sp_allnightlog_setup   \n",
       "2                master.dbo.sp_blitz   \n",
       "3        master.dbo.sp_blitzanalysis   \n",
       "4         master.dbo.sp_blitzbackups   \n",
       "..                               ...   \n",
       "889          hrg.employee.simplelist   \n",
       "890          hrg.employee.mediumlist   \n",
       "891             hrg.employee.leaders   \n",
       "892               hrg.employee.icims   \n",
       "893    reference.dbo.sp_xrefgrouping   \n",
       "\n",
       "                                                  code  \n",
       "0        create procedure dbo.sp_allnightlog       ...  \n",
       "1        create procedure dbo.sp_allnightlog_setup ...  \n",
       "2      create procedure dbo.sp_blitz      @help tin...  \n",
       "3      create procedure dbo.sp_blitzanalysis (  @he...  \n",
       "4    create procedure dbo.sp_blitzbackups      @hel...  \n",
       "..                                                 ...  \n",
       "889  create procedure employee.simplelist  as    se...  \n",
       "890    create procedure employee.mediumlist  as    ...  \n",
       "891      --get list of all employees    create proc...  \n",
       "892    --get data from unified table    create proc...  \n",
       "893                create procedure dbo.sp_xrefgrou...  \n",
       "\n",
       "[894 rows x 2 columns]"
      ]
     },
     "execution_count": 135,
     "metadata": {},
     "output_type": "execute_result"
    }
   ],
   "source": [
    "stored_procedures"
   ]
  },
  {
   "cell_type": "code",
   "execution_count": null,
   "id": "b3e22a64-102e-4be1-bf58-26482ea132c2",
   "metadata": {},
   "outputs": [],
   "source": []
  },
  {
   "cell_type": "code",
   "execution_count": 4,
   "id": "7db2875c-710b-4c20-ad3d-1511cf8dfcfe",
   "metadata": {},
   "outputs": [],
   "source": [
    "stored_procedures = pd.read_json('stored_procedures.json')"
   ]
  },
  {
   "cell_type": "code",
   "execution_count": 5,
   "id": "4d84a3e8-12d7-4e92-abfa-fc484222dc10",
   "metadata": {},
   "outputs": [
    {
     "name": "stderr",
     "output_type": "stream",
     "text": [
      "0it [00:00, ?it/s]\n"
     ]
    },
    {
     "ename": "NameError",
     "evalue": "name 'all_server_tables' is not defined",
     "output_type": "error",
     "traceback": [
      "\u001b[1;31m---------------------------------------------------------------------------\u001b[0m",
      "\u001b[1;31mNameError\u001b[0m                                 Traceback (most recent call last)",
      "Cell \u001b[1;32mIn [5], line 14\u001b[0m\n\u001b[0;32m     10\u001b[0m     \u001b[38;5;28;01mcontinue\u001b[39;00m\n\u001b[0;32m     12\u001b[0m output_table \u001b[38;5;241m=\u001b[39m script\u001b[38;5;241m.\u001b[39msplit(\u001b[38;5;124m'\u001b[39m\u001b[38;5;124minto \u001b[39m\u001b[38;5;124m'\u001b[39m)[\u001b[38;5;241m1\u001b[39m]\u001b[38;5;241m.\u001b[39msplit()[\u001b[38;5;241m0\u001b[39m]\n\u001b[0;32m     13\u001b[0m \u001b[38;5;28;01mif\u001b[39;00m (\n\u001b[1;32m---> 14\u001b[0m     output_table \u001b[38;5;129;01mnot\u001b[39;00m \u001b[38;5;129;01min\u001b[39;00m all_server_tables\u001b[38;5;241m.\u001b[39mTableName\u001b[38;5;241m.\u001b[39mvalues\n\u001b[0;32m     15\u001b[0m     \u001b[38;5;129;01mand\u001b[39;00m output_table \u001b[38;5;129;01mnot\u001b[39;00m \u001b[38;5;129;01min\u001b[39;00m all_server_views\u001b[38;5;241m.\u001b[39mViewName\u001b[38;5;241m.\u001b[39mvalues\n\u001b[0;32m     16\u001b[0m ):\n\u001b[0;32m     17\u001b[0m     \u001b[38;5;28;01mcontinue\u001b[39;00m\n\u001b[0;32m     19\u001b[0m input_tables \u001b[38;5;241m=\u001b[39m []\n",
      "\u001b[1;31mNameError\u001b[0m: name 'all_server_tables' is not defined"
     ]
    }
   ],
   "source": [
    "procedures_outputs = []\n",
    "missed_scripts = []\n",
    "for i, (procedure_name, script) in tqdm(stored_procedures.iterrows()):\n",
    "    if (\n",
    "        script == None \\\n",
    "        or 'into ' not in script \\\n",
    "        or 'from' not in script\n",
    "    ):\n",
    "        missed_scripts.append(script)\n",
    "        continue\n",
    "        \n",
    "    output_table = script.split('into ')[1].split()[0]\n",
    "    if (\n",
    "        output_table not in all_server_tables.TableName.values\n",
    "        and output_table not in all_server_views.ViewName.values\n",
    "    ):\n",
    "        continue\n",
    "    \n",
    "    input_tables = []\n",
    "    script_words = script.split()\n",
    "    for i, word in enumerate(script_words):\n",
    "        if word in ['from', 'join']:\n",
    "            if ((\n",
    "                    script_words[i+1] in all_server_tables.TableName.values\n",
    "                    or script_words[i+1] in all_server_views.ViewName.values\n",
    "                )\n",
    "                and script_words[i+1] not in input_tables\n",
    "            ):\n",
    "                input_tables.append(script_words[i+1])\n",
    "    \n",
    "    for input_table in input_tables:\n",
    "        procedures_outputs.append([input_table, procedure_name, output_table])\n",
    "        \n",
    "procedures_outputs = pd.DataFrame(procedures_outputs, columns = ['input_table', 'procedure_name', 'output_table'])"
   ]
  },
  {
   "cell_type": "code",
   "execution_count": 180,
   "id": "9ff01e85-6cf1-457a-8b9f-cef373eaa47c",
   "metadata": {},
   "outputs": [
    {
     "data": {
      "text/html": [
       "<div>\n",
       "<style scoped>\n",
       "    .dataframe tbody tr th:only-of-type {\n",
       "        vertical-align: middle;\n",
       "    }\n",
       "\n",
       "    .dataframe tbody tr th {\n",
       "        vertical-align: top;\n",
       "    }\n",
       "\n",
       "    .dataframe thead th {\n",
       "        text-align: right;\n",
       "    }\n",
       "</style>\n",
       "<table border=\"1\" class=\"dataframe\">\n",
       "  <thead>\n",
       "    <tr style=\"text-align: right;\">\n",
       "      <th></th>\n",
       "      <th>input_table</th>\n",
       "      <th>procedure_name</th>\n",
       "      <th>output_table</th>\n",
       "    </tr>\n",
       "  </thead>\n",
       "  <tbody>\n",
       "    <tr>\n",
       "      <th>0</th>\n",
       "      <td>msdb.dbo.log_shipping_primaries</td>\n",
       "      <td>msdb.dbo.sp_add_log_shipping_secondary</td>\n",
       "      <td>msdb.dbo.log_shipping_secondaries</td>\n",
       "    </tr>\n",
       "    <tr>\n",
       "      <th>1</th>\n",
       "      <td>msdb.dbo.sysmail_profile</td>\n",
       "      <td>msdb.dbo.sysmail_add_profile_sp</td>\n",
       "      <td>msdb.dbo.sysmail_profile</td>\n",
       "    </tr>\n",
       "    <tr>\n",
       "      <th>2</th>\n",
       "      <td>msdb.dbo.sysjobs_view</td>\n",
       "      <td>msdb.dbo.sp_sqlagent_log_jobhistory</td>\n",
       "      <td>msdb.dbo.sysjobhistory</td>\n",
       "    </tr>\n",
       "    <tr>\n",
       "      <th>3</th>\n",
       "      <td>msdb.dbo.sysjobsteps</td>\n",
       "      <td>msdb.dbo.sp_sqlagent_log_jobhistory</td>\n",
       "      <td>msdb.dbo.sysjobhistory</td>\n",
       "    </tr>\n",
       "    <tr>\n",
       "      <th>4</th>\n",
       "      <td>msdb.dbo.sysoperators</td>\n",
       "      <td>msdb.dbo.sp_sqlagent_log_jobhistory</td>\n",
       "      <td>msdb.dbo.sysjobhistory</td>\n",
       "    </tr>\n",
       "    <tr>\n",
       "      <th>...</th>\n",
       "      <td>...</td>\n",
       "      <td>...</td>\n",
       "      <td>...</td>\n",
       "    </tr>\n",
       "    <tr>\n",
       "      <th>125</th>\n",
       "      <td>stage.rws_salesforce.order</td>\n",
       "      <td>hrg.commission.addmanualorderallocation</td>\n",
       "      <td>hrg.commission.manualorderallocation</td>\n",
       "    </tr>\n",
       "    <tr>\n",
       "      <th>126</th>\n",
       "      <td>stage.rws_salesforce.order_item</td>\n",
       "      <td>hrg.commission.addmanualorderallocation</td>\n",
       "      <td>hrg.commission.manualorderallocation</td>\n",
       "    </tr>\n",
       "    <tr>\n",
       "      <th>127</th>\n",
       "      <td>stage.rws_salesforce.vw_account</td>\n",
       "      <td>hrg.commission.addmanualorderallocation</td>\n",
       "      <td>hrg.commission.manualorderallocation</td>\n",
       "    </tr>\n",
       "    <tr>\n",
       "      <th>128</th>\n",
       "      <td>stage.rws_salesforce.budgetrates</td>\n",
       "      <td>hrg.commission.addmanualorderallocation</td>\n",
       "      <td>hrg.commission.manualorderallocation</td>\n",
       "    </tr>\n",
       "    <tr>\n",
       "      <th>129</th>\n",
       "      <td>stage.rws_salesforce.vw_uniqueuserwithinactive</td>\n",
       "      <td>hrg.commission.addmanualorderallocation</td>\n",
       "      <td>hrg.commission.manualorderallocation</td>\n",
       "    </tr>\n",
       "  </tbody>\n",
       "</table>\n",
       "<p>130 rows × 3 columns</p>\n",
       "</div>"
      ],
      "text/plain": [
       "                                        input_table   \n",
       "0                   msdb.dbo.log_shipping_primaries  \\\n",
       "1                          msdb.dbo.sysmail_profile   \n",
       "2                             msdb.dbo.sysjobs_view   \n",
       "3                              msdb.dbo.sysjobsteps   \n",
       "4                             msdb.dbo.sysoperators   \n",
       "..                                              ...   \n",
       "125                      stage.rws_salesforce.order   \n",
       "126                 stage.rws_salesforce.order_item   \n",
       "127                 stage.rws_salesforce.vw_account   \n",
       "128                stage.rws_salesforce.budgetrates   \n",
       "129  stage.rws_salesforce.vw_uniqueuserwithinactive   \n",
       "\n",
       "                              procedure_name   \n",
       "0     msdb.dbo.sp_add_log_shipping_secondary  \\\n",
       "1            msdb.dbo.sysmail_add_profile_sp   \n",
       "2        msdb.dbo.sp_sqlagent_log_jobhistory   \n",
       "3        msdb.dbo.sp_sqlagent_log_jobhistory   \n",
       "4        msdb.dbo.sp_sqlagent_log_jobhistory   \n",
       "..                                       ...   \n",
       "125  hrg.commission.addmanualorderallocation   \n",
       "126  hrg.commission.addmanualorderallocation   \n",
       "127  hrg.commission.addmanualorderallocation   \n",
       "128  hrg.commission.addmanualorderallocation   \n",
       "129  hrg.commission.addmanualorderallocation   \n",
       "\n",
       "                             output_table  \n",
       "0       msdb.dbo.log_shipping_secondaries  \n",
       "1                msdb.dbo.sysmail_profile  \n",
       "2                  msdb.dbo.sysjobhistory  \n",
       "3                  msdb.dbo.sysjobhistory  \n",
       "4                  msdb.dbo.sysjobhistory  \n",
       "..                                    ...  \n",
       "125  hrg.commission.manualorderallocation  \n",
       "126  hrg.commission.manualorderallocation  \n",
       "127  hrg.commission.manualorderallocation  \n",
       "128  hrg.commission.manualorderallocation  \n",
       "129  hrg.commission.manualorderallocation  \n",
       "\n",
       "[130 rows x 3 columns]"
      ]
     },
     "execution_count": 180,
     "metadata": {},
     "output_type": "execute_result"
    }
   ],
   "source": [
    "procedures_outputs"
   ]
  },
  {
   "cell_type": "code",
   "execution_count": null,
   "id": "36f47736-87d4-489c-afca-29fa6ebf26c3",
   "metadata": {},
   "outputs": [],
   "source": []
  },
  {
   "cell_type": "markdown",
   "id": "b9a99869-2d38-4d61-a01c-d555e441eeed",
   "metadata": {},
   "source": [
    "# algorithm for creating data lineage"
   ]
  },
  {
   "cell_type": "code",
   "execution_count": 77,
   "id": "d907444a-ea61-4d92-bfca-a31184d6eb42",
   "metadata": {},
   "outputs": [
    {
     "data": {
      "text/html": [
       "<div>\n",
       "<style scoped>\n",
       "    .dataframe tbody tr th:only-of-type {\n",
       "        vertical-align: middle;\n",
       "    }\n",
       "\n",
       "    .dataframe tbody tr th {\n",
       "        vertical-align: top;\n",
       "    }\n",
       "\n",
       "    .dataframe thead th {\n",
       "        text-align: right;\n",
       "    }\n",
       "</style>\n",
       "<table border=\"1\" class=\"dataframe\">\n",
       "  <thead>\n",
       "    <tr style=\"text-align: right;\">\n",
       "      <th></th>\n",
       "      <th>input_table</th>\n",
       "      <th>procedure</th>\n",
       "      <th>output_table</th>\n",
       "    </tr>\n",
       "  </thead>\n",
       "  <tbody>\n",
       "    <tr>\n",
       "      <th>0</th>\n",
       "      <td>table_10</td>\n",
       "      <td>proc_00</td>\n",
       "      <td>table_00</td>\n",
       "    </tr>\n",
       "    <tr>\n",
       "      <th>1</th>\n",
       "      <td>table_11</td>\n",
       "      <td>proc_00</td>\n",
       "      <td>table_00</td>\n",
       "    </tr>\n",
       "    <tr>\n",
       "      <th>2</th>\n",
       "      <td>table_20</td>\n",
       "      <td>proc_10</td>\n",
       "      <td>table_10</td>\n",
       "    </tr>\n",
       "    <tr>\n",
       "      <th>3</th>\n",
       "      <td>table_21</td>\n",
       "      <td>proc_10</td>\n",
       "      <td>table_10</td>\n",
       "    </tr>\n",
       "    <tr>\n",
       "      <th>4</th>\n",
       "      <td>table_22</td>\n",
       "      <td>proc_11</td>\n",
       "      <td>table_11</td>\n",
       "    </tr>\n",
       "    <tr>\n",
       "      <th>5</th>\n",
       "      <td>table_23</td>\n",
       "      <td>proc_11</td>\n",
       "      <td>table_11</td>\n",
       "    </tr>\n",
       "    <tr>\n",
       "      <th>6</th>\n",
       "      <td>table_30</td>\n",
       "      <td>proc_20</td>\n",
       "      <td>table_21</td>\n",
       "    </tr>\n",
       "    <tr>\n",
       "      <th>7</th>\n",
       "      <td>table_31</td>\n",
       "      <td>proc_20</td>\n",
       "      <td>table_21</td>\n",
       "    </tr>\n",
       "  </tbody>\n",
       "</table>\n",
       "</div>"
      ],
      "text/plain": [
       "  input_table procedure output_table\n",
       "0    table_10   proc_00     table_00\n",
       "1    table_11   proc_00     table_00\n",
       "2    table_20   proc_10     table_10\n",
       "3    table_21   proc_10     table_10\n",
       "4    table_22   proc_11     table_11\n",
       "5    table_23   proc_11     table_11\n",
       "6    table_30   proc_20     table_21\n",
       "7    table_31   proc_20     table_21"
      ]
     },
     "execution_count": 77,
     "metadata": {},
     "output_type": "execute_result"
    }
   ],
   "source": [
    "procedures_outputs = pd.DataFrame([\n",
    "    ['table_10', 'proc_00', 'table_00'],\n",
    "    ['table_11', 'proc_00', 'table_00'],\n",
    "    \n",
    "    ['table_20', 'proc_10', 'table_10'],\n",
    "    ['table_21', 'proc_10', 'table_10'],\n",
    "    \n",
    "    ['table_22', 'proc_11', 'table_11'],\n",
    "    ['table_23', 'proc_11', 'table_11'],\n",
    "    \n",
    "    ['table_30', 'proc_20', 'table_21'],\n",
    "    ['table_31', 'proc_20', 'table_21']\n",
    "], columns = ['input_table', 'procedure', 'output_table'])\n",
    "\n",
    "procedures_outputs"
   ]
  },
  {
   "cell_type": "code",
   "execution_count": 97,
   "id": "1521fdcf-7937-4abc-b490-e8481953a34e",
   "metadata": {},
   "outputs": [],
   "source": [
    "final_table = 'table_00'"
   ]
  },
  {
   "cell_type": "code",
   "execution_count": 175,
   "id": "9cb8fa87-5b20-4363-9bd5-5de713bdf35b",
   "metadata": {
    "tags": []
   },
   "outputs": [],
   "source": [
    "iteration = 0\n",
    "if iteration == 0:\n",
    "    data_lineage_tables = [[[final_table]]]\n",
    "    procedure = procedures_outputs[procedures_outputs.output_table == final_table].procedure.values[0]\n",
    "    data_lineage_procedures = [[[procedure]]]\n",
    "    \n",
    "data_lineage_tables.append([])\n",
    "data_lineage_procedures.append([])\n",
    "\n",
    "for table in np.array(data_lineage_tables[-2]).flatten():\n",
    "    input_tables = procedures_outputs[procedures_outputs.output_table == table].input_table.values.tolist()\n",
    "    data_lineage_tables[-1].append(input_tables)\n",
    "    \n",
    "    data_lineage_procedures[-1].append([])\n",
    "    if len(input_tables) > 0:\n",
    "        for input_table in input_tables:\n",
    "            procedure = procedures_outputs[procedures_outputs.output_table == input_table].procedure.unique().tolist()\n",
    "            \n",
    "            if len(procedure) > 0:\n",
    "                data_lineage_procedures[-1][-1].append(procedure[0])\n",
    "            else:\n",
    "                data_lineage_procedures[-1][-1].append(None)"
   ]
  },
  {
   "cell_type": "code",
   "execution_count": 176,
   "id": "557212a9-d7e5-4658-9513-206af6dd05ea",
   "metadata": {},
   "outputs": [
    {
     "data": {
      "text/plain": [
       "[[['table_00']], [['table_10', 'table_11']]]"
      ]
     },
     "execution_count": 176,
     "metadata": {},
     "output_type": "execute_result"
    }
   ],
   "source": [
    "data_lineage_tables"
   ]
  },
  {
   "cell_type": "code",
   "execution_count": 177,
   "id": "23de6d08-2b6a-4892-95af-4830486288c1",
   "metadata": {},
   "outputs": [
    {
     "data": {
      "text/plain": [
       "[[['proc_00']], [['proc_10', 'proc_11']]]"
      ]
     },
     "execution_count": 177,
     "metadata": {},
     "output_type": "execute_result"
    }
   ],
   "source": [
    "data_lineage_procedures"
   ]
  },
  {
   "cell_type": "code",
   "execution_count": 178,
   "id": "a804c99e-63a9-4039-93eb-829c82bcc761",
   "metadata": {},
   "outputs": [],
   "source": [
    "iteration = 1\n",
    "if iteration == 0:\n",
    "    data_lineage_tables = [[[final_table]]]\n",
    "    procedure = procedures_outputs[procedures_outputs.output_table == final_table].procedure.values[0]\n",
    "    data_lineage_procedures = [[[procedure]]]\n",
    "    \n",
    "data_lineage_tables.append([])\n",
    "data_lineage_procedures.append([])\n",
    "\n",
    "for table in np.array(data_lineage_tables[-2]).flatten():\n",
    "    input_tables = procedures_outputs[procedures_outputs.output_table == table].input_table.values.tolist()\n",
    "    data_lineage_tables[-1].append(input_tables)\n",
    "    \n",
    "    data_lineage_procedures[-1].append([])\n",
    "    if len(input_tables) > 0:\n",
    "        for input_table in input_tables:\n",
    "            procedure = procedures_outputs[procedures_outputs.output_table == input_table].procedure.unique().tolist()\n",
    "            \n",
    "            if len(procedure) > 0:\n",
    "                data_lineage_procedures[-1][-1].append(procedure[0])\n",
    "            else:\n",
    "                data_lineage_procedures[-1][-1].append(None)"
   ]
  },
  {
   "cell_type": "code",
   "execution_count": 179,
   "id": "8b3a200f-942b-451d-b056-ced04fd8846a",
   "metadata": {},
   "outputs": [
    {
     "data": {
      "text/plain": [
       "[[['table_00']],\n",
       " [['table_10', 'table_11']],\n",
       " [['table_20', 'table_21'], ['table_22', 'table_23']]]"
      ]
     },
     "execution_count": 179,
     "metadata": {},
     "output_type": "execute_result"
    }
   ],
   "source": [
    "data_lineage_tables"
   ]
  },
  {
   "cell_type": "code",
   "execution_count": 180,
   "id": "59e0a07b-82ce-4f94-910a-8adb649c2d0c",
   "metadata": {},
   "outputs": [
    {
     "data": {
      "text/plain": [
       "[[['proc_00']], [['proc_10', 'proc_11']], [[None, 'proc_20'], [None, None]]]"
      ]
     },
     "execution_count": 180,
     "metadata": {},
     "output_type": "execute_result"
    }
   ],
   "source": [
    "data_lineage_procedures"
   ]
  },
  {
   "cell_type": "code",
   "execution_count": 181,
   "id": "4ab2883c-2e1b-4120-be8f-eb9b68e3cb11",
   "metadata": {},
   "outputs": [],
   "source": [
    "iteration = 2\n",
    "if iteration == 0:\n",
    "    data_lineage_tables = [[[final_table]]]\n",
    "    procedure = procedures_outputs[procedures_outputs.output_table == final_table].procedure.values[0]\n",
    "    data_lineage_procedures = [[[procedure]]]\n",
    "    \n",
    "data_lineage_tables.append([])\n",
    "data_lineage_procedures.append([])\n",
    "\n",
    "for table in np.array(data_lineage_tables[-2]).flatten():\n",
    "    input_tables = procedures_outputs[procedures_outputs.output_table == table].input_table.values.tolist()\n",
    "    data_lineage_tables[-1].append(input_tables)\n",
    "    \n",
    "    data_lineage_procedures[-1].append([])\n",
    "    if len(input_tables) > 0:\n",
    "        for input_table in input_tables:\n",
    "            procedure = procedures_outputs[procedures_outputs.output_table == input_table].procedure.unique().tolist()\n",
    "            \n",
    "            if len(procedure) > 0:\n",
    "                data_lineage_procedures[-1][-1].append(procedure[0])\n",
    "            else:\n",
    "                data_lineage_procedures[-1][-1].append(None)"
   ]
  },
  {
   "cell_type": "code",
   "execution_count": 182,
   "id": "9aa3ec2d-b67a-4776-8d13-59c92bf4235c",
   "metadata": {},
   "outputs": [
    {
     "data": {
      "text/plain": [
       "[[['table_00']],\n",
       " [['table_10', 'table_11']],\n",
       " [['table_20', 'table_21'], ['table_22', 'table_23']],\n",
       " [[], ['table_30', 'table_31'], [], []]]"
      ]
     },
     "execution_count": 182,
     "metadata": {},
     "output_type": "execute_result"
    }
   ],
   "source": [
    "data_lineage_tables"
   ]
  },
  {
   "cell_type": "code",
   "execution_count": 183,
   "id": "a52e550e-8476-4f38-b70f-66159918ca13",
   "metadata": {},
   "outputs": [
    {
     "data": {
      "text/plain": [
       "[[['proc_00']],\n",
       " [['proc_10', 'proc_11']],\n",
       " [[None, 'proc_20'], [None, None]],\n",
       " [[], [None, None], [], []]]"
      ]
     },
     "execution_count": 183,
     "metadata": {},
     "output_type": "execute_result"
    }
   ],
   "source": [
    "data_lineage_procedures"
   ]
  },
  {
   "cell_type": "code",
   "execution_count": null,
   "id": "25d9d985-7f42-457c-b8d6-58f7fc6da476",
   "metadata": {},
   "outputs": [],
   "source": []
  },
  {
   "cell_type": "code",
   "execution_count": null,
   "id": "27a8cc45-d7f3-49ad-a926-bb8d449a7d57",
   "metadata": {},
   "outputs": [],
   "source": []
  },
  {
   "cell_type": "code",
   "execution_count": null,
   "id": "6d2b2645-4502-4106-aab5-bfb190b01adf",
   "metadata": {},
   "outputs": [],
   "source": []
  },
  {
   "cell_type": "markdown",
   "id": "f50753fb-c4b1-4c0c-9add-4446fb89a979",
   "metadata": {},
   "source": [
    "# algorithm for creating data lineage v2"
   ]
  },
  {
   "cell_type": "code",
   "execution_count": 22,
   "id": "feacf4c7-cc94-4a42-8080-f103319accc4",
   "metadata": {},
   "outputs": [
    {
     "data": {
      "text/html": [
       "<div>\n",
       "<style scoped>\n",
       "    .dataframe tbody tr th:only-of-type {\n",
       "        vertical-align: middle;\n",
       "    }\n",
       "\n",
       "    .dataframe tbody tr th {\n",
       "        vertical-align: top;\n",
       "    }\n",
       "\n",
       "    .dataframe thead th {\n",
       "        text-align: right;\n",
       "    }\n",
       "</style>\n",
       "<table border=\"1\" class=\"dataframe\">\n",
       "  <thead>\n",
       "    <tr style=\"text-align: right;\">\n",
       "      <th></th>\n",
       "      <th>input_table</th>\n",
       "      <th>procedure</th>\n",
       "      <th>output_table</th>\n",
       "    </tr>\n",
       "  </thead>\n",
       "  <tbody>\n",
       "    <tr>\n",
       "      <th>0</th>\n",
       "      <td>table_10</td>\n",
       "      <td>proc_00</td>\n",
       "      <td>table_00</td>\n",
       "    </tr>\n",
       "    <tr>\n",
       "      <th>1</th>\n",
       "      <td>table_11</td>\n",
       "      <td>proc_00</td>\n",
       "      <td>table_00</td>\n",
       "    </tr>\n",
       "    <tr>\n",
       "      <th>2</th>\n",
       "      <td>table_20</td>\n",
       "      <td>proc_10</td>\n",
       "      <td>table_10</td>\n",
       "    </tr>\n",
       "    <tr>\n",
       "      <th>3</th>\n",
       "      <td>table_21</td>\n",
       "      <td>proc_10</td>\n",
       "      <td>table_10</td>\n",
       "    </tr>\n",
       "    <tr>\n",
       "      <th>4</th>\n",
       "      <td>table_22</td>\n",
       "      <td>proc_11</td>\n",
       "      <td>table_11</td>\n",
       "    </tr>\n",
       "    <tr>\n",
       "      <th>5</th>\n",
       "      <td>table_23</td>\n",
       "      <td>proc_11</td>\n",
       "      <td>table_11</td>\n",
       "    </tr>\n",
       "  </tbody>\n",
       "</table>\n",
       "</div>"
      ],
      "text/plain": [
       "  input_table procedure output_table\n",
       "0    table_10   proc_00     table_00\n",
       "1    table_11   proc_00     table_00\n",
       "2    table_20   proc_10     table_10\n",
       "3    table_21   proc_10     table_10\n",
       "4    table_22   proc_11     table_11\n",
       "5    table_23   proc_11     table_11"
      ]
     },
     "execution_count": 22,
     "metadata": {},
     "output_type": "execute_result"
    }
   ],
   "source": [
    "procedures_outputs = pd.DataFrame([\n",
    "    ['table_10', 'proc_00', 'table_00'],\n",
    "    ['table_11', 'proc_00', 'table_00'],\n",
    "    \n",
    "    ['table_20', 'proc_10', 'table_10'],\n",
    "    ['table_21', 'proc_10', 'table_10'],\n",
    "    \n",
    "    ['table_22', 'proc_11', 'table_11'],\n",
    "    ['table_23', 'proc_11', 'table_11']\n",
    "], columns = ['input_table', 'procedure', 'output_table'])\n",
    "\n",
    "procedures_outputs"
   ]
  },
  {
   "cell_type": "code",
   "execution_count": 23,
   "id": "efcb997d-a350-4fd8-9c80-85375e3da047",
   "metadata": {},
   "outputs": [],
   "source": [
    "table = 'table_00'"
   ]
  },
  {
   "cell_type": "code",
   "execution_count": 20,
   "id": "7d408cf0-bf86-4969-b1f0-1cc68c83946f",
   "metadata": {},
   "outputs": [],
   "source": [
    "def create_data_lineage(procedures_outputs, table):\n",
    "    \"\"\"\n",
    "    table argument indicates name of a table for which we want to create data lineage indicating\n",
    "    how this table has been created\n",
    "    \n",
    "    procedures_outputs arguments indicates a table which shows what are inputs and outputs of procedures\n",
    "    \"\"\"\n",
    "    data_lineage = {table: {}}\n",
    "    df = procedures_outputs[procedures_outputs.output_table == table]\n",
    "\n",
    "    if len(df) > 0:\n",
    "        procedure = df.procedure.values[0]\n",
    "        input_tables = df.input_table.values\n",
    "        data_lineage[table][procedure] = []\n",
    "\n",
    "        for input_table in input_tables:\n",
    "            data_lineage[table][procedure].append(\n",
    "                create_data_lineage(procedures_outputs, input_table)\n",
    "            )\n",
    "    else:\n",
    "        return {table: None}\n",
    "    \n",
    "    return data_lineage"
   ]
  },
  {
   "cell_type": "code",
   "execution_count": 26,
   "id": "d10d3c12-53e3-4d2f-8a51-b266dc2c38ec",
   "metadata": {},
   "outputs": [
    {
     "data": {
      "text/plain": [
       "{'table_00': {'proc_00': [{'table_10': {'proc_10': [{'table_20': None},\n",
       "      {'table_21': None}]}},\n",
       "   {'table_11': {'proc_11': [{'table_22': None}, {'table_23': None}]}}]}}"
      ]
     },
     "execution_count": 26,
     "metadata": {},
     "output_type": "execute_result"
    }
   ],
   "source": [
    "create_data_lineage(procedures_outputs, table)"
   ]
  },
  {
   "cell_type": "code",
   "execution_count": 28,
   "id": "6e6ec7e8-b84a-4266-9158-65b611e7be64",
   "metadata": {},
   "outputs": [],
   "source": [
    "{'table_00': {'proc_00': [\n",
    "    {'table_10': {'proc_10': [\n",
    "        {'table_20': None},\n",
    "        {'table_21': None}\n",
    "    ]}},\n",
    "    {'table_11': {'proc_11': [\n",
    "        {'table_22': None}, \n",
    "        {'table_23': None}\n",
    "    ]}}\n",
    "]}}"
   ]
  },
  {
   "cell_type": "code",
   "execution_count": null,
   "id": "13e878db-d973-4a5b-81c7-2d90c229ab1c",
   "metadata": {},
   "outputs": [],
   "source": []
  },
  {
   "cell_type": "code",
   "execution_count": null,
   "id": "7f41a585-a001-42f3-bf82-32a3cb9647c6",
   "metadata": {},
   "outputs": [],
   "source": []
  }
 ],
 "metadata": {
  "kernelspec": {
   "display_name": "Python 3 (ipykernel)",
   "language": "python",
   "name": "python3"
  },
  "language_info": {
   "codemirror_mode": {
    "name": "ipython",
    "version": 3
   },
   "file_extension": ".py",
   "mimetype": "text/x-python",
   "name": "python",
   "nbconvert_exporter": "python",
   "pygments_lexer": "ipython3",
   "version": "3.10.7"
  }
 },
 "nbformat": 4,
 "nbformat_minor": 5
}
